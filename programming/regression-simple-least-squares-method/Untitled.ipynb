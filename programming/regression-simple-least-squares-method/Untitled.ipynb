{
 "cells": [
  {
   "cell_type": "code",
   "execution_count": 12,
   "metadata": {},
   "outputs": [],
   "source": [
    "%matplotlib notebook"
   ]
  },
  {
   "cell_type": "code",
   "execution_count": 1,
   "metadata": {
    "scrolled": false
   },
   "outputs": [
    {
     "name": "stderr",
     "output_type": "stream",
     "text": [
      "C:\\Users\\shahmoradia\\Anaconda3\\lib\\site-packages\\numpy\\_distributor_init.py:32: UserWarning: loaded more than 1 DLL from .libs:\n",
      "C:\\Users\\shahmoradia\\Anaconda3\\lib\\site-packages\\numpy\\.libs\\libopenblas.GK7GX5KEQ4F6UYO3P26ULGBQYHGQO7J4.gfortran-win_amd64.dll\n",
      "C:\\Users\\shahmoradia\\Anaconda3\\lib\\site-packages\\numpy\\.libs\\libopenblas.NOIJJG62EMASZI6NYURL6JBKM4EVBGM7.gfortran-win_amd64.dll\n",
      "  stacklevel=1)\n"
     ]
    },
    {
     "data": {
      "image/png": "[encoded data removed]",
      "text/plain": [
       "<Figure size 675x600 with 1 Axes>"
      ]
     },
     "metadata": {},
     "output_type": "display_data"
    },
    {
     "name": "stdout",
     "output_type": "stream",
     "text": [
      "Optimization terminated successfully.\n",
      "         Current function value: 100.868424\n",
      "         Iterations: 21\n",
      "         Function evaluations: 42\n",
      "\n",
      "Sum of Least-Squared Deviations = -0.08197021484375\n",
      "simple average formula = -0.08197189633971344\n",
      "relative difference = 2.0513289127509662e-05\n",
      "\n"
     ]
    }
   ],
   "source": [
    "#!python\n",
    "#!/usr/bin/env python\n",
    "import numpy as np\n",
    "import seaborn as sns\n",
    "from scipy.io import loadmat\n",
    "from scipy.stats import norm\n",
    "from scipy.optimize import fmin\n",
    "sns.set()\n",
    "\n",
    "# load MATLAB data file\n",
    "Drand = loadmat(\"Drand.mat\")\n",
    "Data  = Drand[\"Drand\"]\n",
    "\n",
    "\n",
    "import matplotlib.pyplot as plt\n",
    "fig = plt.figure( figsize=(9, 8) \\\n",
    "                , dpi= 75 \\\n",
    "                , facecolor='w' \\\n",
    "                , edgecolor='w' \\\n",
    "                ) # create figure object\n",
    "ax = fig.add_subplot(1,1,1) # Get the axes instance\n",
    "\n",
    "plt.hist(Data)\n",
    "\n",
    "plt.show()\n",
    "\n",
    "# find the parameters of Gaussian distribution\n",
    "\n",
    "def getSumDistSq(meanValue):\n",
    "    sumDistSq = np.sum( (Data-meanValue)**2 );\n",
    "    return sumDistSq\n",
    "\n",
    "bestMeanValue = fmin( func = getSumDistSq\n",
    "                    , x0 = 10\n",
    "                    )\n",
    "bestMeanValue = bestMeanValue[0]\n",
    "simpleMean = np.sum(Data)/len(Data)\n",
    "print( \"\"\"\n",
    "Sum of Least-Squared Deviations = {}\n",
    "simple average formula = {}\n",
    "relative difference = {}\n",
    "\"\"\".format( bestMeanValue\n",
    "          , simpleMean\n",
    "          , 2*abs( (bestMeanValue-simpleMean) / (bestMeanValue+simpleMean) )\n",
    "          )\n",
    "     )"
   ]
  },
  {
   "cell_type": "code",
   "execution_count": 2,
   "metadata": {},
   "outputs": [
    {
     "data": {
      "image/png": "[encoded data removed]",
      "text/plain": [
       "<Figure size 675x600 with 1 Axes>"
      ]
     },
     "metadata": {},
     "output_type": "display_data"
    },
    {
     "name": "stdout",
     "output_type": "stream",
     "text": [
      "Optimization terminated successfully.\n",
      "         Current function value: 81.133610\n",
      "         Iterations: 14\n",
      "         Function evaluations: 32\n",
      "\n",
      "average via Sum of Least-Absolute Deviations = 0.0077500000000000025\n",
      "simple average formula = -0.08197189633971344\n",
      "\n"
     ]
    }
   ],
   "source": [
    "#!python\n",
    "#!/usr/bin/env python\n",
    "import numpy as np\n",
    "import seaborn as sns\n",
    "from scipy.io import loadmat\n",
    "from scipy.stats import norm\n",
    "from scipy.optimize import fmin\n",
    "sns.set()\n",
    "\n",
    "# load MATLAB data file\n",
    "Drand = loadmat(\"Drand.mat\")\n",
    "Data  = Drand[\"Drand\"]\n",
    "\n",
    "\n",
    "import matplotlib.pyplot as plt\n",
    "fig = plt.figure( figsize=(9, 8) \\\n",
    "                , dpi= 75 \\\n",
    "                , facecolor='w' \\\n",
    "                , edgecolor='w' \\\n",
    "                ) # create figure object\n",
    "ax = fig.add_subplot(1,1,1) # Get the axes instance\n",
    "\n",
    "plt.hist(Data)\n",
    "\n",
    "plt.show()\n",
    "\n",
    "# find the parameters of Gaussian distribution\n",
    "\n",
    "def getSumAbsDist(meanValue):\n",
    "    sumDistSq = np.sum( np.abs(Data-meanValue) );\n",
    "    return sumDistSq\n",
    "\n",
    "bestMeanValue = fmin( func = getSumAbsDist\n",
    "                    , x0 = 0\n",
    "                    , xtol = 0.00001\n",
    "                    , ftol = 0.00001\n",
    "                    )\n",
    "bestMeanValue = bestMeanValue[0]\n",
    "simpleMean = np.sum(Data)/len(Data)\n",
    "print( \"\"\"\n",
    "average via Sum of Least-Absolute Deviations = {}\n",
    "simple average formula = {}\n",
    "\"\"\".format( bestMeanValue\n",
    "          , simpleMean\n",
    "          )\n",
    "     )"
   ]
  },
  {
   "cell_type": "code",
   "execution_count": null,
   "metadata": {},
   "outputs": [],
   "source": []
  }
 ],
 "metadata": {
  "kernelspec": {
   "display_name": "Python 3",
   "language": "python",
   "name": "python3"
  },
  "language_info": {
   "codemirror_mode": {
    "name": "ipython",
    "version": 3
   },
   "file_extension": ".py",
   "mimetype": "text/x-python",
   "name": "python",
   "nbconvert_exporter": "python",
   "pygments_lexer": "ipython3",
   "version": "3.7.6"
  }
 },
 "nbformat": 4,
 "nbformat_minor": 4
}
