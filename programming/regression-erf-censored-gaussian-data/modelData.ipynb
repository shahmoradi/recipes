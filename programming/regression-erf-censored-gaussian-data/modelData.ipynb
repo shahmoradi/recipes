{
 "cells": [
  {
   "cell_type": "code",
   "execution_count": null,
   "metadata": {},
   "outputs": [],
   "source": [
    "%matplotlib notebook"
   ]
  },
  {
   "cell_type": "code",
   "execution_count": null,
   "metadata": {},
   "outputs": [],
   "source": [
    "import matplotlib.pyplot as plt\n",
    "from scipy.stats import norm\n",
    "import paramonte as pm\n",
    "import seaborn as sns\n",
    "import pandas as pd\n",
    "import numpy as np\n",
    "sns.set()"
   ]
  },
  {
   "cell_type": "code",
   "execution_count": null,
   "metadata": {},
   "outputs": [],
   "source": [
    "url = \"\"#\"http://www.cdslab.org/recipes/programming/regression-censored-gaussian-data/\"\n",
    "df = pd.read_csv(url+\"data.csv\", header=None)"
   ]
  },
  {
   "cell_type": "code",
   "execution_count": null,
   "metadata": {},
   "outputs": [],
   "source": [
    "df.head()"
   ]
  },
  {
   "cell_type": "code",
   "execution_count": null,
   "metadata": {},
   "outputs": [],
   "source": [
    "df.count()"
   ]
  },
  {
   "cell_type": "code",
   "execution_count": null,
   "metadata": {},
   "outputs": [],
   "source": [
    "# plot histogram of data\n",
    "x = df.values\n",
    "\n",
    "fig = plt.figure()\n",
    "ax = fig.gca()\n",
    "ax.hist(x)\n",
    "ax.set_xlim([-4,4])\n",
    "ax.set_xlabel(\"X\")\n",
    "ax.set_ylabel(\"Count\")\n",
    "plt.show()"
   ]
  },
  {
   "cell_type": "code",
   "execution_count": null,
   "metadata": {},
   "outputs": [],
   "source": [
    "#getModelLogPDF(x = 0, meanG = 0, logStdG = 1, meanC = 0.5, logStdC = .1)"
   ]
  },
  {
   "cell_type": "code",
   "execution_count": null,
   "metadata": {},
   "outputs": [],
   "source": [
    "#np.exp(getLogPDF(x = 0, mean = 0, logStd = np.log(1)))"
   ]
  },
  {
   "cell_type": "code",
   "execution_count": null,
   "metadata": {},
   "outputs": [],
   "source": [
    "NDATA = len(x)\n",
    "SQRT_TWO = np.sqrt(2)\n",
    "from scipy.special import erf\n",
    "from scipy.integrate import romberg\n",
    "\n",
    "def getLogLike(params): \n",
    "    \n",
    "    meanG = params[0]\n",
    "    logStdG = params[1]\n",
    "    stdG = np.exp(logStdG)\n",
    "\n",
    "    meanC = 0.5#params[2]\n",
    "    logStdC = np.log(0.1)#params[3]\n",
    "    stdC = np.exp(logStdC)\n",
    "\n",
    "    # Compute the probability of censiship\n",
    "    def getCensorshipLogProb(x): return 0.5 + 0.5 * erf( (meanC - x) / (stdC * SQRT_TWO) )\n",
    "\n",
    "    # Compute the Gaussian probablity of data\n",
    "    def getNormLogPDF(x): return -np.log(np.sqrt(2*np.pi)) - logStdG - (x - meanG)**2 / (2*stdG**2)\n",
    "\n",
    "    # Compute the log-probability of data.\n",
    "    def getModelLogPDF(x): return getNormLogPDF(x) + getCensorshipLogProb(x)\n",
    "\n",
    "    ##########################################################################\n",
    "    # Compute the normalization factor of the model such that it becomes a PDF\n",
    "    ##########################################################################\n",
    "\n",
    "    # Compute the probability of data.\n",
    "    def getModelPDF(x): return np.exp(getModelLogPDF(x))\n",
    "    \n",
    "    # Get the Gaussian CDF up to a given point, needed for the computation of the normalization factor\n",
    "    def getNormCDF(x, mean, std): return 0.5 + 0.5 * erf( (x - mean) / (std * SQRT_TWO) )\n",
    "\n",
    "    def getLogNormalizationFactor():\n",
    "\n",
    "        print(params)\n",
    "        print([meanG, stdG, meanC, stdC])\n",
    "        threshold = meanC - 4 * stdC\n",
    "        integralPart1 = getNormCDF(x = threshold, mean = meanG, std = stdG)\n",
    "        integralPart2 = romberg( function = getModelPDF\n",
    "                               , a = threshold\n",
    "                               , b = meanC + 4 * stdC\n",
    "                               , tol = 1.e-6\n",
    "                               , divmax = 8\n",
    "                               )\n",
    "        return np.log(integralPart1 + integralPart2)\n",
    "        \n",
    "    # return thre likelihood\n",
    "        \n",
    "    return np.sum(getModelLogPDF(x)) - NDATA * getLogNormalizationFactor()\n"
   ]
  },
  {
   "cell_type": "code",
   "execution_count": null,
   "metadata": {},
   "outputs": [],
   "source": [
    "getLogLike(params = [0,0])#,0.5,np.log(0.1)])"
   ]
  },
  {
   "cell_type": "code",
   "execution_count": null,
   "metadata": {},
   "outputs": [
    {
     "name": "stdout",
     "output_type": "stream",
     "text": [
      "\n",
      "ParaDRAM - NOTE: Running the ParaDRAM sampler in serial mode...\n",
      "ParaDRAM - NOTE: To run the ParaDRAM sampler in parallel mode visit:\n",
      "ParaDRAM - NOTE: \n",
      "ParaDRAM - NOTE:     https://www.cdslab.org/paramonte\n",
      "ParaDRAM - NOTE: \n",
      "ParaDRAM - NOTE: If you are using Jupyter notebook, check the Jupyter's \n",
      "ParaDRAM - NOTE: terminal window for realtime simulation progress and report.\n",
      "\n"
     ]
    }
   ],
   "source": [
    "import paramonte as pm\n",
    "pm.version.interface.dump() # get the version of ParaMonte we are working with\n",
    "pmpd = pm.ParaDRAM() # create a ParaDRAM sampler object\n",
    "pmpd.spec.chainSize = 20000 # change the number of sampled points from default 100,000 to 30,000\n",
    "pmpd.spec.outputFileName = \"./censored\"\n",
    "pmpd.spec.overwriteRequested = True\n",
    "pmpd.spec.variableNameList = [\"meanG\",\"logStdG\"]#,\"meanC\",\"logStdC\"]\n",
    "pmpd.spec.startPointVec = [0,0,0.5]#,np.log(0.1)] # ensure the initial starting point of the search for cutoff is good.\n",
    "pmpd.spec.targetAcceptanceRate = [0.1,0.3] # ensure the MCMC sampling efficiency does not become too large or too small.\n",
    "\n",
    "# call MCMC sampler\n",
    "\n",
    "pmpd.runSampler( ndim = 2\n",
    "               , getLogFunc = getLogLike\n",
    "               )"
   ]
  },
  {
   "cell_type": "code",
   "execution_count": null,
   "metadata": {
    "scrolled": true
   },
   "outputs": [],
   "source": [
    "pmpd.readSample()"
   ]
  },
  {
   "cell_type": "code",
   "execution_count": null,
   "metadata": {
    "scrolled": false
   },
   "outputs": [],
   "source": [
    "# read the resulting sample\n",
    "\n",
    "sample = pmpd.readSample(renabled = True)[0]\n",
    "\n",
    "# plot traceplots of the sampled parameters\n",
    "\n",
    "for colname in pmpd.sampleList[0].df.columns:\n",
    "    sample.plot.line.ycolumns = colname\n",
    "    sample.plot.line.outputFile = \"traceplot_\" + colname\n",
    "    sample.plot.line()\n",
    "    sample.plot.line.currentFig.axes.set_xlabel(\"MCMC Count\")\n",
    "    sample.plot.line.currentFig.axes.set_ylabel(colname)\n",
    "\n",
    "# plot the histograms of the sampled parameters\n",
    "\n",
    "for colname in pmpd.sampleList[0].df.columns:\n",
    "    print(colname)\n",
    "    sample.plot.histplot.xcolumns = colname\n",
    "    sample.plot.histplot.outputFile = \"histogram_\" + colname\n",
    "    sample.plot.histplot()\n",
    "    sample.plot.histplot.currentFig.axes.set_xlabel(colname)\n",
    "    sample.plot.histplot.currentFig.axes.set_ylabel(\"MCMC Count\")\n"
   ]
  },
  {
   "cell_type": "code",
   "execution_count": null,
   "metadata": {},
   "outputs": [],
   "source": [
    "np.exp(sample.df.LogStandardDeviation.mean())"
   ]
  },
  {
   "cell_type": "code",
   "execution_count": null,
   "metadata": {
    "scrolled": false
   },
   "outputs": [],
   "source": [
    "logStd = sample.df.LogStandardDeviation.mean()\n",
    "mean = sample.df.Average.mean()\n",
    "\n",
    "import matplotlib.pyplot as plt\n",
    "fig = plt.figure()\n",
    "ax = plt.subplot()\n",
    "ax.hist( logx\n",
    "       , density = True\n",
    "       )\n",
    "xval = np.linspace(-4, 4, 100)\n",
    "yval = np.exp(getLogPDF(xval, mean, logStd))\n",
    "ax.plot( xval\n",
    "       , yval\n",
    "       , color = \"r\"\n",
    "       , linewidth = 3\n",
    "       )\n",
    "plt.legend([\"Censored Data\", \"Gaussian Best-Fit Line\"])\n",
    "plt.savefig(\"CensoredDataGaussianFit.png\")"
   ]
  },
  {
   "cell_type": "code",
   "execution_count": null,
   "metadata": {},
   "outputs": [],
   "source": []
  },
  {
   "cell_type": "code",
   "execution_count": null,
   "metadata": {},
   "outputs": [],
   "source": [
    "#chain = pmpd.readChain(renabled = True)[0]\n",
    "chain.plot.contour3()"
   ]
  },
  {
   "cell_type": "code",
   "execution_count": null,
   "metadata": {},
   "outputs": [],
   "source": [
    "chain.plot.lineScatter3()"
   ]
  },
  {
   "cell_type": "code",
   "execution_count": null,
   "metadata": {
    "scrolled": false
   },
   "outputs": [],
   "source": [
    "sample = pmpd.readSample(renabled = True)[0]\n",
    "sample.plot.contour3()\n",
    "sample.plot.lineScatter3()"
   ]
  },
  {
   "cell_type": "code",
   "execution_count": null,
   "metadata": {},
   "outputs": [],
   "source": [
    "\"A\".replace(\"\",\"X\")"
   ]
  },
  {
   "cell_type": "code",
   "execution_count": null,
   "metadata": {},
   "outputs": [],
   "source": []
  },
  {
   "cell_type": "code",
   "execution_count": null,
   "metadata": {},
   "outputs": [],
   "source": []
  },
  {
   "cell_type": "code",
   "execution_count": null,
   "metadata": {
    "scrolled": true
   },
   "outputs": [],
   "source": [
    "class Normal():\n",
    "\n",
    "    def __init__(self, normData):\n",
    "        self.data = normData\n",
    "        self.ndata = len(self.data)\n",
    "        self.maxdata = np.max(self.data)\n",
    "\n",
    "    def getLogProb(self, data, avg, logStd, cutoff):\n",
    "        \"\"\"\n",
    "        Return the logarithm of the probability density of an input set of x values, \n",
    "        given the input parameters (avg,logStd,cutoff) for the Gaussian PDF.\n",
    "        \"\"\"\n",
    "        std = np.exp(logStd)\n",
    "        return - 2.506628274631000 - logStd - 0.5 * ( (data-avg) / std )**2 - np.log(norm.cdf(cutoff, avg, std))\n",
    "\n",
    "    def getLogLike(self,param):\n",
    "        if param[2] < self.maxdata:\n",
    "            # data cannot be larger than the threshold, \n",
    "            # so such parameter set for the Gaussian is impossible\n",
    "            # therefore return negative infinity as the value of the logLikelihood\n",
    "            return -1.e300\n",
    "        else:\n",
    "            return np.sum( self.getLogProb(self.data, param[0], param[1], param[2]) )\n",
    "\n",
    "normal = Normal(normData = logx)"
   ]
  },
  {
   "cell_type": "code",
   "execution_count": null,
   "metadata": {},
   "outputs": [],
   "source": [
    "pmpd = pm.ParaDRAM() # create a ParaDRAM sampler object\n",
    "pmpd.spec.chainSize = 20000 # change the number of sampled points from default 100,000 to 30,000\n",
    "pmpd.spec.variableNameList = [\"Average\",\"LogStandardDeviation\",\"Cutoff\"]\n",
    "pmpd.spec.startPointVec = [0,0,normal.maxdata] # ensure the initial starting point of the search for cutoff is good.\n",
    "pmpd.spec.targetAcceptanceRate = [0.1,0.2]\n",
    "\n",
    "# call MCMC sampler\n",
    "\n",
    "pmpd.runSampler( ndim = 3\n",
    "               , getLogFunc = normal.getLogLike\n",
    "               )"
   ]
  },
  {
   "cell_type": "code",
   "execution_count": null,
   "metadata": {
    "scrolled": true
   },
   "outputs": [],
   "source": [
    "# read the resulting sample\n",
    "pmpd.readSample()\n",
    "\n",
    "# plot the sampled variables\n",
    "for colname in pmpd.sampleList[0].df.columns:\n",
    "    pmpd.sampleList[0].plot.line.ycolumns = colname\n",
    "    pmpd.sampleList[0].plot.line.outputFile = \"traceplot_\" + colname\n",
    "    pmpd.sampleList[0].plot.line()\n",
    "    pmpd.sampleList[0].plot.line.currentFig.axes.set_xlabel(\"MCMC Count\")\n",
    "    pmpd.sampleList[0].plot.line.currentFig.axes.set_ylabel(colname)\n",
    "\n"
   ]
  },
  {
   "cell_type": "code",
   "execution_count": null,
   "metadata": {
    "scrolled": true
   },
   "outputs": [],
   "source": [
    "# plot the histograms of the sampled parameters\n",
    "for colname in pmpd.sampleList[0].df.columns:\n",
    "    pmpd.sampleList[0].plot.hist.columns = colname\n",
    "    pmpd.sampleList[0].plot.hist.outputFile = \"histogram_\" + colname\n",
    "    pmpd.sampleList[0].plot.hist()\n",
    "    pmpd.sampleList[0].plot.hist.currentFig.axes.set_xlabel(\"MCMC Count\")\n",
    "    pmpd.sampleList[0].plot.hist.currentFig.axes.set_ylabel(colname)\n"
   ]
  },
  {
   "cell_type": "code",
   "execution_count": null,
   "metadata": {
    "scrolled": true
   },
   "outputs": [],
   "source": [
    "# make interactive plotting possible in Jupyter Notebook\n",
    "\n",
    "try:\n",
    "    %matplotlib notebook\n",
    "except:\n",
    "    pass\n",
    "\n",
    "# import visualization and data libraries\n",
    "\n",
    "import matplotlib.pyplot as plt\n",
    "from scipy.stats import norm\n",
    "import seaborn as sns\n",
    "import pandas as pd\n",
    "import numpy as np\n",
    "sns.set()\n",
    "\n",
    "df = pd.read_csv(\"http://www.cdslab.org/recipes/programming/regression-censored-gaussian-data/data.csv\", header=None)\n",
    "df.head()\n",
    "\n",
    "# log-transform data so that it can be fit by a Normal distribution\n",
    "\n",
    "logx = np.double(np.log(df.iloc[:,0]))\n",
    "\n",
    "# plot histogram of log(data)\n",
    "\n",
    "fig = plt.figure()\n",
    "ax = fig.gca()\n",
    "ax.hist(logx)\n",
    "ax.set_xlim([-4,4])\n",
    "ax.set_xlabel(\"Log( X )\")\n",
    "ax.set_ylabel(\"Count\")\n",
    "plt.show()\n",
    "\n",
    "# generate the Normal class containing the log-likelihood function\n",
    "\n",
    "class Normal():\n",
    "\n",
    "    def __init__(self, normData):\n",
    "        self.data = normData\n",
    "        self.ndata = len(self.data)\n",
    "        self.maxdata = np.max(self.data)\n",
    "\n",
    "    def getLogProb(self, data, avg, logStd, cutoff):\n",
    "        \"\"\"\n",
    "        Return the logarithm of the probability density of an input set of x values, \n",
    "        given the input parameters (avg,logStd,cutoff) for the Gaussian PDF.\n",
    "        \"\"\"\n",
    "        std = np.exp(logStd)\n",
    "        return -0.9189385332 - logStd - 0.5 * ( (data-avg) / std )**2 - np.log(norm.cdf(cutoff, avg, std))\n",
    "\n",
    "    def getLogLike(self,param):\n",
    "        if param[2] < self.maxdata:\n",
    "            # data cannot be larger than the threshold, \n",
    "            # so such parameter set for the Gaussian is impossible\n",
    "            # therefore return negative infinity as the value of the logLikelihood\n",
    "            return -1.e300\n",
    "        else:\n",
    "            return np.sum( self.getLogProb(self.data, param[0], param[1], param[2]) )\n",
    "\n",
    "normal = Normal(normData = logx)\n",
    "\n",
    "# sample the log-likelihood function via the ParaDRAM MCMC sampler\n",
    "\n",
    "import paramonte as pm\n",
    "pmpd = pm.ParaDRAM() # create a ParaDRAM sampler object\n",
    "pmpd.spec.chainSize = 20000 # change the number of sampled points from default 100,000 to 30,000\n",
    "pmpd.spec.variableNameList = [\"Average\",\"LogStandardDeviation\",\"Cutoff\"]\n",
    "pmpd.spec.startPointVec = [0,0,normal.maxdata] # ensure the initial starting point of the search for cutoff is good.\n",
    "pmpd.spec.targetAcceptanceRate = [0.1,0.3] # ensure the MCMC sampling efficiency does not become too large or too small.\n",
    "\n",
    "# call the MCMC sampler\n",
    "\n",
    "pmpd.runSampler( ndim = 3\n",
    "               , getLogFunc = normal.getLogLike\n",
    "               )\n",
    "\n",
    "# read the resulting sample\n",
    "\n",
    "sample = pmpd.readSample(renabled = True)[0]\n",
    "\n",
    "# plot traceplots of the sampled parameters\n",
    "\n",
    "for colname in pmpd.sampleList[0].df.columns:\n",
    "    sample.plot.line.ycolumns = colname\n",
    "    sample.plot.line.outputFile = \"traceplot_\" + colname\n",
    "    sample.plot.line()\n",
    "    sample.plot.line.currentFig.axes.set_xlabel(\"MCMC Count\")\n",
    "    sample.plot.line.currentFig.axes.set_ylabel(colname)\n",
    "\n",
    "# plot the histograms of the sampled parameters\n",
    "\n",
    "for colname in pmpd.sampleList[0].df.columns:\n",
    "    sample.plot.histplot.columns = colname\n",
    "    sample.plot.histplot.outputFile = \"histogram_\" + colname\n",
    "    sample.plot.histplot()\n",
    "    sample.plot.histplot.currentFig.axes.set_xlabel(colname)\n",
    "    sample.plot.histplot.currentFig.axes.set_ylabel(\"MCMC Count\")\n",
    "\n",
    "pmpd.sample.df.mean()"
   ]
  },
  {
   "cell_type": "code",
   "execution_count": null,
   "metadata": {},
   "outputs": [],
   "source": [
    "logStd = sample.df.LogStandardDeviation.mean()\n",
    "mean = sample.df.Average.mean()\n",
    "\n",
    "import matplotlib.pyplot as plt\n",
    "fig = plt.figure()\n",
    "ax = plt.subplot()\n",
    "ax.hist( logx\n",
    "       , density = True\n",
    "       )\n",
    "xval = np.linspace(-4, 4, 100)\n",
    "yval = np.exp(getLogPDF(xval, mean, logStd))\n",
    "ax.plot( xval\n",
    "       , yval * 5.2/4\n",
    "       , color = \"r\"\n",
    "       , linewidth = 3\n",
    "       )\n",
    "ax.set_xlim([-4.5, 4.5])\n",
    "ax.set_xlabel(\"Log( X )\")\n",
    "ax.set_ylabel(\"Probability Density Function\")\n",
    "plt.legend([\"Censored Data\", \"Truncated-Gaussian Best-Fit\"])\n",
    "plt.tight_layout()\n",
    "plt.savefig(\"CensoredDataCensoredNormalFit.png\")"
   ]
  },
  {
   "cell_type": "code",
   "execution_count": null,
   "metadata": {},
   "outputs": [],
   "source": [
    "pmpd.sampleList[0].df.mean()"
   ]
  },
  {
   "cell_type": "code",
   "execution_count": null,
   "metadata": {},
   "outputs": [],
   "source": [
    "np.max(logx)"
   ]
  },
  {
   "cell_type": "code",
   "execution_count": null,
   "metadata": {
    "scrolled": false
   },
   "outputs": [],
   "source": [
    "norm.cdf(cutoff, avg, std)"
   ]
  },
  {
   "cell_type": "code",
   "execution_count": null,
   "metadata": {},
   "outputs": [],
   "source": [
    "pmpd.sampleList[0].plot.hist.columns"
   ]
  },
  {
   "cell_type": "code",
   "execution_count": null,
   "metadata": {},
   "outputs": [],
   "source": []
  },
  {
   "cell_type": "code",
   "execution_count": null,
   "metadata": {},
   "outputs": [],
   "source": []
  }
 ],
 "metadata": {
  "kernelspec": {
   "display_name": "Python 3",
   "language": "python",
   "name": "python3"
  },
  "language_info": {
   "codemirror_mode": {
    "name": "ipython",
    "version": 3
   },
   "file_extension": ".py",
   "mimetype": "text/x-python",
   "name": "python",
   "nbconvert_exporter": "python",
   "pygments_lexer": "ipython3",
   "version": "3.7.6"
  }
 },
 "nbformat": 4,
 "nbformat_minor": 4
}
